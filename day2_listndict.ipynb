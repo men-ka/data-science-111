{
  "nbformat": 4,
  "nbformat_minor": 0,
  "metadata": {
    "colab": {
      "provenance": [],
      "authorship_tag": "ABX9TyPhsx+OTKt5PKjf96HZP7q/",
      "include_colab_link": true
    },
    "kernelspec": {
      "name": "python3",
      "display_name": "Python 3"
    },
    "language_info": {
      "name": "python"
    }
  },
  "cells": [
    {
      "cell_type": "markdown",
      "metadata": {
        "id": "view-in-github",
        "colab_type": "text"
      },
      "source": [
        "<a href=\"https://colab.research.google.com/github/men-ka/data-science-111/blob/main/day2_listndict.ipynb\" target=\"_parent\"><img src=\"https://colab.research.google.com/assets/colab-badge.svg\" alt=\"Open In Colab\"/></a>"
      ]
    },
    {
      "cell_type": "code",
      "source": [
        "import numpy as np"
      ],
      "metadata": {
        "id": "NqXYCZFkK17R"
      },
      "execution_count": null,
      "outputs": []
    },
    {
      "cell_type": "code",
      "execution_count": null,
      "metadata": {
        "id": "q0lzEQpZ6wZP"
      },
      "outputs": [],
      "source": [
        "#list\n",
        "prime = [2,3,5,7]\n",
        "planets = ['mercury','venus','earth','mars','jupiter','saturn','uranus','neptune']\n",
        "hands = [['J','Q','K'],['2','2','2'],['6','A','K']] #list of lists\n",
        "my_favourite_things = [32, 'raindrops on roses', help]"
      ]
    },
    {
      "cell_type": "code",
      "source": [
        "print(planets[0])\n",
        "print(planets[-1])\n",
        "print(planets[0:3]) #slicing, planets[:3]"
      ],
      "metadata": {
        "colab": {
          "base_uri": "https://localhost:8080/"
        },
        "id": "UQ9wmaQA8H_f",
        "outputId": "7633cd09-56c0-4cfb-c50a-5165c2c7a252"
      },
      "execution_count": null,
      "outputs": [
        {
          "output_type": "stream",
          "name": "stdout",
          "text": [
            "mercury\n",
            "neptune\n",
            "['mercury', 'venus', 'earth']\n"
          ]
        }
      ]
    },
    {
      "cell_type": "code",
      "source": [
        "planets[3] = 'mehehe'\n",
        "planets"
      ],
      "metadata": {
        "colab": {
          "base_uri": "https://localhost:8080/"
        },
        "id": "lSDVcxWxAQHv",
        "outputId": "e803d7d6-5686-4896-d169-316e33e9dfcc"
      },
      "execution_count": null,
      "outputs": [
        {
          "output_type": "execute_result",
          "data": {
            "text/plain": [
              "['mercury',\n",
              " 'venus',\n",
              " 'earth',\n",
              " 'mehehe',\n",
              " 'jupiter',\n",
              " 'saturn',\n",
              " 'uranus',\n",
              " 'neptune']"
            ]
          },
          "metadata": {},
          "execution_count": 8
        }
      ]
    },
    {
      "cell_type": "code",
      "source": [
        "print(planets.index('earth'))\n",
        "\"jupiter\" in planets"
      ],
      "metadata": {
        "colab": {
          "base_uri": "https://localhost:8080/"
        },
        "id": "-tUND0LAAoNr",
        "outputId": "a014544a-1926-4a33-ba82-34f5e58c560a"
      },
      "execution_count": null,
      "outputs": [
        {
          "output_type": "stream",
          "name": "stdout",
          "text": [
            "2\n"
          ]
        },
        {
          "output_type": "execute_result",
          "data": {
            "text/plain": [
              "True"
            ]
          },
          "metadata": {},
          "execution_count": 12
        }
      ]
    },
    {
      "cell_type": "code",
      "source": [
        "print(sum(prime))\n",
        "print(max(prime))\n",
        "print(np.mean(prime))"
      ],
      "metadata": {
        "colab": {
          "base_uri": "https://localhost:8080/"
        },
        "id": "DV8WOJ5P-lKr",
        "outputId": "a81376d3-41ad-4d6e-9e9d-e06121f6c7e6"
      },
      "execution_count": null,
      "outputs": [
        {
          "output_type": "stream",
          "name": "stdout",
          "text": [
            "17\n",
            "7\n",
            "4.25\n"
          ]
        }
      ]
    },
    {
      "cell_type": "code",
      "source": [
        "x = 12\n",
        "x.bit_length()"
      ],
      "metadata": {
        "colab": {
          "base_uri": "https://localhost:8080/"
        },
        "id": "HYJsw4aV--pO",
        "outputId": "9e586b19-2d22-46db-e005-7c14f3d967c3"
      },
      "execution_count": null,
      "outputs": [
        {
          "output_type": "execute_result",
          "data": {
            "text/plain": [
              "4"
            ]
          },
          "metadata": {},
          "execution_count": 9
        }
      ]
    },
    {
      "cell_type": "code",
      "source": [
        "#tuples\n",
        "t = (1,2,3) # t=1,2,3\n",
        "t\n",
        "x=0.125\n",
        "print(x.as_integer_ratio()) #returns multiple values\n",
        "numer, denom = x.as_integer_ratio()\n",
        "print(numer/denom)"
      ],
      "metadata": {
        "id": "Aoli8VeDAcKp",
        "colab": {
          "base_uri": "https://localhost:8080/"
        },
        "outputId": "c087aba1-f9ac-4e9b-e4f1-f5657cedadcf"
      },
      "execution_count": null,
      "outputs": [
        {
          "output_type": "stream",
          "name": "stdout",
          "text": [
            "(1, 8)\n",
            "0.125\n"
          ]
        }
      ]
    },
    {
      "cell_type": "code",
      "source": [
        "#dictionaries\n",
        "numbers = {'one':1,'two':2,'three':3}\n",
        "numbers['two']"
      ],
      "metadata": {
        "colab": {
          "base_uri": "https://localhost:8080/"
        },
        "id": "DnChECPKLAMh",
        "outputId": "61b72421-1caa-40d4-dbcd-c63f93e2e624"
      },
      "execution_count": null,
      "outputs": [
        {
          "output_type": "execute_result",
          "data": {
            "text/plain": [
              "2"
            ]
          },
          "metadata": {},
          "execution_count": 19
        }
      ]
    },
    {
      "cell_type": "code",
      "source": [
        "numbers['eleven']=11\n",
        "numbers"
      ],
      "metadata": {
        "colab": {
          "base_uri": "https://localhost:8080/"
        },
        "id": "eeR7s-uDLpti",
        "outputId": "ced8aa11-8829-4d45-ed8c-6709ea980032"
      },
      "execution_count": null,
      "outputs": [
        {
          "output_type": "execute_result",
          "data": {
            "text/plain": [
              "{'one': 1, 'two': 2, 'three': 3, 'eleven': 11}"
            ]
          },
          "metadata": {},
          "execution_count": 20
        }
      ]
    },
    {
      "cell_type": "code",
      "source": [
        "planets_initial={planets:planets[0] for planets in planets}\n",
        "planets_initial"
      ],
      "metadata": {
        "colab": {
          "base_uri": "https://localhost:8080/"
        },
        "id": "lFdukiCcL9Fn",
        "outputId": "b3c1572b-0ca8-4d00-ccd3-47cc2b87dc59"
      },
      "execution_count": null,
      "outputs": [
        {
          "output_type": "execute_result",
          "data": {
            "text/plain": [
              "{'mercury': 'm',\n",
              " 'venus': 'v',\n",
              " 'earth': 'e',\n",
              " 'mehehe': 'm',\n",
              " 'jupiter': 'j',\n",
              " 'saturn': 's',\n",
              " 'uranus': 'u',\n",
              " 'neptune': 'n'}"
            ]
          },
          "metadata": {},
          "execution_count": 23
        }
      ]
    },
    {
      "cell_type": "code",
      "source": [
        "for k in numbers:\n",
        "  print(\"{}={}\".format(k,numbers[k]))"
      ],
      "metadata": {
        "colab": {
          "base_uri": "https://localhost:8080/"
        },
        "id": "DEZ7QClMMV8E",
        "outputId": "d3bb980d-f7b9-4fca-ef77-c4b059ae578f"
      },
      "execution_count": null,
      "outputs": [
        {
          "output_type": "stream",
          "name": "stdout",
          "text": [
            "one=1\n",
            "two=2\n",
            "three=3\n",
            "eleven=11\n"
          ]
        }
      ]
    },
    {
      "cell_type": "code",
      "source": [
        "for planets, initial in planets_initial.items():\n",
        "    print(\"{} begins with \\\"{}\\\"\".format(planets.rjust(10), initial))"
      ],
      "metadata": {
        "colab": {
          "base_uri": "https://localhost:8080/"
        },
        "id": "V228NYN4NdSx",
        "outputId": "e4a96ace-c1d6-45c9-ba77-3a53c6120101"
      },
      "execution_count": null,
      "outputs": [
        {
          "output_type": "stream",
          "name": "stdout",
          "text": [
            "   mercury begins with \"m\"\n",
            "     venus begins with \"v\"\n",
            "     earth begins with \"e\"\n",
            "    mehehe begins with \"m\"\n",
            "   jupiter begins with \"j\"\n",
            "    saturn begins with \"s\"\n",
            "    uranus begins with \"u\"\n",
            "   neptune begins with \"n\"\n"
          ]
        }
      ]
    }
  ]
}