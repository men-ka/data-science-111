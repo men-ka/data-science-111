{
  "nbformat": 4,
  "nbformat_minor": 0,
  "metadata": {
    "colab": {
      "provenance": [],
      "authorship_tag": "ABX9TyPjfnLkGG+JIV0Km6mtI8of",
      "include_colab_link": true
    },
    "kernelspec": {
      "name": "python3",
      "display_name": "Python 3"
    },
    "language_info": {
      "name": "python"
    }
  },
  "cells": [
    {
      "cell_type": "markdown",
      "metadata": {
        "id": "view-in-github",
        "colab_type": "text"
      },
      "source": [
        "<a href=\"https://colab.research.google.com/github/men-ka/data-science-111/blob/main/day5.ipynb\" target=\"_parent\"><img src=\"https://colab.research.google.com/assets/colab-badge.svg\" alt=\"Open In Colab\"/></a>"
      ]
    },
    {
      "cell_type": "code",
      "execution_count": 1,
      "metadata": {
        "id": "lwF3l7VUszwV"
      },
      "outputs": [],
      "source": [
        "import pandas as pd"
      ]
    },
    {
      "cell_type": "code",
      "source": [
        "url= \"https://raw.githubusercontent.com/sc0609/Netflix_Data/refs/heads/main/netflix_titles.csv\"\n",
        "df = pd.read_csv(url)"
      ],
      "metadata": {
        "id": "PwkZzj4ts98M"
      },
      "execution_count": 2,
      "outputs": []
    },
    {
      "cell_type": "code",
      "source": [
        "# Basic cleanup\n",
        "df['type']=df['type'].fillna(\"Unknown\")\n",
        "df['country']=df['country'].fillna(\"Unknown\")"
      ],
      "metadata": {
        "id": "zqW00_zctIez"
      },
      "execution_count": 3,
      "outputs": []
    },
    {
      "cell_type": "code",
      "source": [
        "print(\"Count by Type:\\n\", df['type'].value_counts())"
      ],
      "metadata": {
        "colab": {
          "base_uri": "https://localhost:8080/"
        },
        "id": "kRL4JqTXtNSV",
        "outputId": "60c99609-f833-4fdb-e656-751faa4c2add"
      },
      "execution_count": 4,
      "outputs": [
        {
          "output_type": "stream",
          "name": "stdout",
          "text": [
            "Count by Type:\n",
            " type\n",
            "Movie      6131\n",
            "TV Show    2676\n",
            "Name: count, dtype: int64\n"
          ]
        }
      ]
    },
    {
      "cell_type": "code",
      "source": [
        "#Top 10 countries\n",
        "print(\"\\nTop 10 Countries:\\n\", df['country'].value_counts().head(10))"
      ],
      "metadata": {
        "colab": {
          "base_uri": "https://localhost:8080/"
        },
        "id": "zDYwPztytrEL",
        "outputId": "1369a18a-6198-4936-92d1-b4f5c7fcdb7d"
      },
      "execution_count": 5,
      "outputs": [
        {
          "output_type": "stream",
          "name": "stdout",
          "text": [
            "\n",
            "Top 10 Countries:\n",
            " country\n",
            "United States     2818\n",
            "India              972\n",
            "Unknown            831\n",
            "United Kingdom     419\n",
            "Japan              245\n",
            "South Korea        199\n",
            "Canada             181\n",
            "Spain              145\n",
            "France             124\n",
            "Mexico             110\n",
            "Name: count, dtype: int64\n"
          ]
        }
      ]
    },
    {
      "cell_type": "code",
      "source": [
        "# Count by release year\n",
        "print(\"\\nReleases per Year:\\n\", df['release_year'].value_counts().sort_index(ascending=False))\n",
        "\n",
        "# Country + Type grouping\n",
        "country_type_grouped = df.groupby(['country', 'type']).size().reset_index(name='count')\n",
        "print(\"\\nCountry + Type breakdown:\\n\", country_type_grouped.sort_values(by='count', ascending=False).head(10))"
      ],
      "metadata": {
        "colab": {
          "base_uri": "https://localhost:8080/"
        },
        "id": "uLJ18vUrtv7R",
        "outputId": "31065d88-6aad-48b6-e6d5-cf4e6a8b02e4"
      },
      "execution_count": 6,
      "outputs": [
        {
          "output_type": "stream",
          "name": "stdout",
          "text": [
            "\n",
            "Releases per Year:\n",
            " release_year\n",
            "2021     592\n",
            "2020     953\n",
            "2019    1030\n",
            "2018    1147\n",
            "2017    1032\n",
            "        ... \n",
            "1945       4\n",
            "1944       3\n",
            "1943       3\n",
            "1942       2\n",
            "1925       1\n",
            "Name: count, Length: 74, dtype: int64\n",
            "\n",
            "Country + Type breakdown:\n",
            "             country     type  count\n",
            "685   United States    Movie   2058\n",
            "284           India    Movie    893\n",
            "686   United States  TV Show    760\n",
            "835         Unknown    Movie    440\n",
            "836         Unknown  TV Show    391\n",
            "581  United Kingdom  TV Show    213\n",
            "580  United Kingdom    Movie    206\n",
            "362           Japan  TV Show    169\n",
            "499     South Korea  TV Show    158\n",
            "67           Canada    Movie    122\n"
          ]
        }
      ]
    },
    {
      "cell_type": "code",
      "source": [
        "print(\"Content count by Rating:\\n\", df['rating'].value_counts())"
      ],
      "metadata": {
        "colab": {
          "base_uri": "https://localhost:8080/"
        },
        "id": "gYMfoMx4BTW8",
        "outputId": "aa9dbe1d-d1ef-4478-92d2-9a4cb89b01d9"
      },
      "execution_count": 7,
      "outputs": [
        {
          "output_type": "stream",
          "name": "stdout",
          "text": [
            "Content count by Rating:\n",
            " rating\n",
            "TV-MA       3207\n",
            "TV-14       2160\n",
            "TV-PG        863\n",
            "R            799\n",
            "PG-13        490\n",
            "TV-Y7        334\n",
            "TV-Y         307\n",
            "PG           287\n",
            "TV-G         220\n",
            "NR            80\n",
            "G             41\n",
            "TV-Y7-FV       6\n",
            "NC-17          3\n",
            "UR             3\n",
            "74 min         1\n",
            "84 min         1\n",
            "66 min         1\n",
            "Name: count, dtype: int64\n"
          ]
        }
      ]
    },
    {
      "cell_type": "code",
      "source": [
        "print(\"Top 5 Directors:\\n\", df['director'].value_counts().head(5))"
      ],
      "metadata": {
        "colab": {
          "base_uri": "https://localhost:8080/"
        },
        "id": "KjGuDz-eBb8j",
        "outputId": "4f40da1f-0bc9-416f-bbb6-2f34b767e4f1"
      },
      "execution_count": 8,
      "outputs": [
        {
          "output_type": "stream",
          "name": "stdout",
          "text": [
            "Top 5 Directors:\n",
            " director\n",
            "Rajiv Chilaka             19\n",
            "Raúl Campos, Jan Suter    18\n",
            "Suhas Kadav               16\n",
            "Marcus Raboy              16\n",
            "Jay Karas                 14\n",
            "Name: count, dtype: int64\n"
          ]
        }
      ]
    },
    {
      "cell_type": "code",
      "source": [
        "#category combinations\n",
        "print(\"Unique genre/category combinations:\\n\", df['listed_in'].nunique())\n",
        "print(\"Top 5 Most Common Genres:\\n\", df['listed_in'].value_counts().head(5))"
      ],
      "metadata": {
        "colab": {
          "base_uri": "https://localhost:8080/"
        },
        "id": "Kr6wXheWBfxj",
        "outputId": "abc658a5-92c0-4e44-f5fb-e6418bb2e37f"
      },
      "execution_count": 10,
      "outputs": [
        {
          "output_type": "stream",
          "name": "stdout",
          "text": [
            "Unique genre/category combinations:\n",
            " 514\n",
            "Top 5 Most Common Genres:\n",
            " listed_in\n",
            "Dramas, International Movies                        362\n",
            "Documentaries                                       359\n",
            "Stand-Up Comedy                                     334\n",
            "Comedies, Dramas, International Movies              274\n",
            "Dramas, Independent Movies, International Movies    252\n",
            "Name: count, dtype: int64\n"
          ]
        }
      ]
    },
    {
      "cell_type": "code",
      "source": [
        "summary = df.groupby('type').agg({\n",
        "    'title': 'count',\n",
        "    'country': 'nunique'\n",
        "}).rename(columns={'title': 'Total Titles', 'country': 'Unique Countries'})\n",
        "\n",
        "print(summary)"
      ],
      "metadata": {
        "colab": {
          "base_uri": "https://localhost:8080/"
        },
        "id": "-kF5VOfxBvQx",
        "outputId": "67ca5333-9dc7-4fda-fa14-719e0ad62ba1"
      },
      "execution_count": 11,
      "outputs": [
        {
          "output_type": "stream",
          "name": "stdout",
          "text": [
            "         Total Titles  Unique Countries\n",
            "type                                   \n",
            "Movie            6131               652\n",
            "TV Show          2676               197\n"
          ]
        }
      ]
    },
    {
      "cell_type": "code",
      "source": [
        "japan_df= df[df['country'].str.contains(\"Japan\",na=False)]\n",
        "print(japan_df['type'].value_counts())\n",
        "print(japan_df['listed_in'].value_counts().head(5))\n",
        "print(japan_df['release_year'].value_counts().head(5))"
      ],
      "metadata": {
        "colab": {
          "base_uri": "https://localhost:8080/"
        },
        "id": "jZt3J50KB3IS",
        "outputId": "c5f6e3df-cd9d-4fad-f89c-2229094453ac"
      },
      "execution_count": 13,
      "outputs": [
        {
          "output_type": "stream",
          "name": "stdout",
          "text": [
            "type\n",
            "TV Show    199\n",
            "Movie      119\n",
            "Name: count, dtype: int64\n",
            "listed_in\n",
            "Anime Series, International TV Shows                        81\n",
            "Action & Adventure, Anime Features, International Movies    33\n",
            "Anime Series, Kids' TV                                      15\n",
            "Kids' TV                                                    10\n",
            "Anime Series, Crime TV Shows, International TV Shows         9\n",
            "Name: count, dtype: int64\n",
            "release_year\n",
            "2018    49\n",
            "2017    37\n",
            "2019    36\n",
            "2016    25\n",
            "2020    24\n",
            "Name: count, dtype: int64\n"
          ]
        }
      ]
    }
  ]
}