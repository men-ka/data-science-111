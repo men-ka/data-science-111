{
  "nbformat": 4,
  "nbformat_minor": 0,
  "metadata": {
    "colab": {
      "provenance": [],
      "authorship_tag": "ABX9TyMYdY+vo5J9SaCcxuNkbfDG",
      "include_colab_link": true
    },
    "kernelspec": {
      "name": "python3",
      "display_name": "Python 3"
    },
    "language_info": {
      "name": "python"
    }
  },
  "cells": [
    {
      "cell_type": "markdown",
      "metadata": {
        "id": "view-in-github",
        "colab_type": "text"
      },
      "source": [
        "<a href=\"https://colab.research.google.com/github/men-ka/data-science-111/blob/main/day1_PythonBasics.ipynb\" target=\"_parent\"><img src=\"https://colab.research.google.com/assets/colab-badge.svg\" alt=\"Open In Colab\"/></a>"
      ]
    },
    {
      "cell_type": "code",
      "source": [
        "import pandas as pd"
      ],
      "metadata": {
        "id": "EyJyqyUty5CR"
      },
      "execution_count": 4,
      "outputs": []
    },
    {
      "cell_type": "code",
      "source": [
        "#array\n",
        "array=[80,85,86,40,30,90]\n",
        "print(array)"
      ],
      "metadata": {
        "colab": {
          "base_uri": "https://localhost:8080/"
        },
        "id": "ueCscl3oq9KX",
        "outputId": "36fdc313-6d39-4068-eeb9-86d75b6de760"
      },
      "execution_count": 5,
      "outputs": [
        {
          "output_type": "stream",
          "name": "stdout",
          "text": [
            "[80, 85, 86, 40, 30, 90]\n"
          ]
        }
      ]
    },
    {
      "cell_type": "code",
      "execution_count": 3,
      "metadata": {
        "colab": {
          "base_uri": "https://localhost:8080/"
        },
        "id": "tcyjDI09ntx7",
        "outputId": "edc7bda1-1a53-4870-8006-27b87d9c6282"
      },
      "outputs": [
        {
          "output_type": "stream",
          "name": "stdout",
          "text": [
            "Enter name:menka\n",
            "Enter age:20\n",
            "Hello menka 20\n"
          ]
        }
      ],
      "source": [
        "name = input(\"Enter name:\")\n",
        "age = input(\"Enter age:\")\n",
        "print(\"Hello \"+ name +\" \"+ age)"
      ]
    },
    {
      "cell_type": "code",
      "source": [
        "#create dataframe with Pandas\n",
        "d={'col1':[1,2,3,4,7],'col2':[4,5,6,9,5],'col3':[7,8,9,6,8]}\n",
        "df=pd.DataFrame(data=d)\n",
        "print(df)"
      ],
      "metadata": {
        "colab": {
          "base_uri": "https://localhost:8080/"
        },
        "id": "KGlWd5ZNy-nS",
        "outputId": "14423223-acb4-4364-fed0-d889e857ac6b"
      },
      "execution_count": 6,
      "outputs": [
        {
          "output_type": "stream",
          "name": "stdout",
          "text": [
            "   col1  col2  col3\n",
            "0     1     4     7\n",
            "1     2     5     8\n",
            "2     3     6     9\n",
            "3     4     9     6\n",
            "4     7     5     8\n"
          ]
        }
      ]
    },
    {
      "cell_type": "code",
      "source": [
        "#count columns and rows in the dataframe\n",
        "count_column = df.shape[1]\n",
        "count_row = df.shape[0]\n",
        "print(count_column)\n",
        "print(count_row)"
      ],
      "metadata": {
        "colab": {
          "base_uri": "https://localhost:8080/"
        },
        "id": "sTNPRriTzjfG",
        "outputId": "8b3201fc-f6cd-49f4-c347-51eb9c7c2f17"
      },
      "execution_count": 7,
      "outputs": [
        {
          "output_type": "stream",
          "name": "stdout",
          "text": [
            "3\n",
            "5\n"
          ]
        }
      ]
    }
  ]
}
